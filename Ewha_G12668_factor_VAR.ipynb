{
 "cells": [
  {
   "cell_type": "code",
   "execution_count": 59,
   "id": "798dbefe",
   "metadata": {},
   "outputs": [],
   "source": [
    "import pandas as pd\n",
    "import numpy as np\n",
    "from numpy import linalg\n",
    "import statsmodels as sm\n",
    "import statsmodels.formula.api as smf\n",
    "from matplotlib import pyplot as plt\n",
    "import math\n",
    "from statsmodels.tsa.api import VAR\n",
    "from sklearn.preprocessing import StandardScaler"
   ]
  },
  {
   "cell_type": "code",
   "execution_count": 60,
   "id": "91338351",
   "metadata": {},
   "outputs": [],
   "source": [
    "df=pd.read_csv(\"c://j-works22/works/data/macro_month.csv\")\n",
    "y=df['y']\n",
    "x1=df['x1']\n",
    "x2=df['x2']\n",
    "x3=df['x3']\n",
    "x4=df['x4']\n",
    "x5=df['x5']\n",
    "z=pd.concat([x1,x2,x3,x4,x5],axis=1)\n",
    "n=len(y)\n",
    "# np.shape(z)\n",
    "# x=StandardScaler(with_mean=True, with_std=True).fit_transform(x)"
   ]
  },
  {
   "cell_type": "code",
   "execution_count": 97,
   "id": "9bd5ae4d",
   "metadata": {},
   "outputs": [
    {
     "name": "stderr",
     "output_type": "stream",
     "text": [
      "C:\\Users\\ewha\\AppData\\Local\\Temp/ipykernel_72320/2347120081.py:1: FutureWarning: Calling a ufunc on non-aligned DataFrames (or DataFrame/Series combination). Currently, the indices are ignored and the result takes the index/columns of the first DataFrame. In the future , the DataFrames/Series will be aligned before applying the ufunc.\n",
      "Convert one of the arguments to a NumPy array (eg 'ufunc(df1, np.asarray(df2)') to keep the current behaviour, or align manually (eg 'df1, df2 = df1.align(df2)') before passing to the ufunc to obtain the future behaviour and silence this warning.\n",
      "  w=np.matmul(z.T, z)\n"
     ]
    },
    {
     "data": {
      "text/plain": [
       "(258, 2)"
      ]
     },
     "execution_count": 97,
     "metadata": {},
     "output_type": "execute_result"
    }
   ],
   "source": [
    "w=np.matmul(z.T, z)   \n",
    "evals, evecs = np.linalg.eig(w)\n",
    "# np.shape(evecs)\n",
    "\n",
    "# Eigenvalues and eigenvectors as descending order\n",
    "sort=np.argsort(-1*evals)\n",
    "vals=evals[sort]\n",
    "vecs=evecs[:, sort]\n",
    "\n",
    "# the largest eigenvalue and eigenvector\n",
    "vals0=vals[0]\n",
    "vals1=vals[1]\n",
    "vecs0=vecs[:,0]\n",
    "vecs1=vecs[:,1]\n",
    "\n",
    "# f0 is the the largest factor\n",
    "g0=np.sqrt(n)*vecs0\n",
    "g1=np.sqrt(n)*vecs1\n",
    "g=np.vstack((g0,g1))\n",
    "g=g.T\n",
    "\n",
    "f=np.matmul(z, g)/n\n",
    "\n",
    "# np.shape(f)\n",
    "# rescaled factor\n",
    "# factor0=np.array(f0)\n",
    "#f0=f0.reshape(-1,1)\n",
    "#f0=StandardScaler(with_mean=True, with_std=True).fit_transform(f0)\n"
   ]
  },
  {
   "cell_type": "code",
   "execution_count": 114,
   "id": "50b7f7ef",
   "metadata": {},
   "outputs": [],
   "source": [
    "f=np.array(f)\n",
    "f0=f[:, 0]\n",
    "f1=f[:,1]"
   ]
  },
  {
   "cell_type": "code",
   "execution_count": 117,
   "id": "9785847d",
   "metadata": {},
   "outputs": [
    {
     "data": {
      "text/plain": [
       "Text(0.5, 1.0, 'The two largest Factor')"
      ]
     },
     "execution_count": 117,
     "metadata": {},
     "output_type": "execute_result"
    },
    {
     "data": {
      "image/png": "[encoded data removed]",
      "text/plain": [
       "<Figure size 432x288 with 1 Axes>"
      ]
     },
     "metadata": {
      "needs_background": "light"
     },
     "output_type": "display_data"
    }
   ],
   "source": [
    "# Plot of the largest factor\n",
    "\n",
    "kk=len(f0)\n",
    "seqa=[ i for i in range(1, kk+1)]\n",
    "plt.plot(seqa, f0, color='r')\n",
    "plt.plot(seqa, f1, color='g')\n",
    "plt.xlabel('time')\n",
    "# plt.ylabel('the two largest factor')\n",
    "plt.title('The two largest Factor')"
   ]
  },
  {
   "cell_type": "code",
   "execution_count": 118,
   "id": "bede63c6",
   "metadata": {},
   "outputs": [
    {
     "data": {
      "text/plain": [
       "  Summary of Regression Results   \n",
       "==================================\n",
       "Model:                         VAR\n",
       "Method:                        OLS\n",
       "Date:           Wed, 09, Nov, 2022\n",
       "Time:                     14:42:58\n",
       "--------------------------------------------------------------------\n",
       "No. of Equations:         3.00000    BIC:                   -14.9099\n",
       "Nobs:                     256.000    HQIC:                  -15.0838\n",
       "Log likelihood:           876.952    FPE:                2.50273e-07\n",
       "AIC:                     -15.2008    Det(Omega_mle):     2.30816e-07\n",
       "--------------------------------------------------------------------\n",
       "Results for equation y1\n",
       "========================================================================\n",
       "           coefficient       std. error           t-stat            prob\n",
       "------------------------------------------------------------------------\n",
       "const        -0.000362         0.004352           -0.083           0.934\n",
       "L1.y1         0.526158         0.063423            8.296           0.000\n",
       "L1.y2        -0.038154         0.072276           -0.528           0.598\n",
       "L1.y3         0.008873         0.034920            0.254           0.799\n",
       "L2.y1         0.022550         0.063487            0.355           0.722\n",
       "L2.y2        -0.001508         0.071864           -0.021           0.983\n",
       "L2.y3        -0.010893         0.034667           -0.314           0.753\n",
       "========================================================================\n",
       "\n",
       "Results for equation y2\n",
       "========================================================================\n",
       "           coefficient       std. error           t-stat            prob\n",
       "------------------------------------------------------------------------\n",
       "const        -0.000437         0.003810           -0.115           0.909\n",
       "L1.y1         0.021943         0.055513            0.395           0.693\n",
       "L1.y2         0.316589         0.063262            5.004           0.000\n",
       "L1.y3        -0.037296         0.030565           -1.220           0.222\n",
       "L2.y1         0.010297         0.055569            0.185           0.853\n",
       "L2.y2         0.049534         0.062901            0.787           0.431\n",
       "L2.y3         0.042943         0.030344            1.415           0.157\n",
       "========================================================================\n",
       "\n",
       "Results for equation y3\n",
       "========================================================================\n",
       "           coefficient       std. error           t-stat            prob\n",
       "------------------------------------------------------------------------\n",
       "const        -0.002502         0.007145           -0.350           0.726\n",
       "L1.y1        -0.122506         0.104118           -1.177           0.239\n",
       "L1.y2        -0.095804         0.118651           -0.807           0.419\n",
       "L1.y3         1.359216         0.057326           23.710           0.000\n",
       "L2.y1         0.055697         0.104223            0.534           0.593\n",
       "L2.y2        -0.008602         0.117974           -0.073           0.942\n",
       "L2.y3        -0.371128         0.056911           -6.521           0.000\n",
       "========================================================================\n",
       "\n",
       "Correlation matrix of residuals\n",
       "            y1        y2        y3\n",
       "y1    1.000000 -0.000936 -0.046910\n",
       "y2   -0.000936  1.000000 -0.050806\n",
       "y3   -0.046910 -0.050806  1.000000\n",
       "\n"
      ]
     },
     "execution_count": 118,
     "metadata": {},
     "output_type": "execute_result"
    }
   ],
   "source": [
    "# VAR estimation \n",
    "w=np.column_stack((f, y))\n",
    "result=VAR(w).fit(maxlags=10, ic='bic')\n",
    "result.summary()"
   ]
  }
 ],
 "metadata": {
  "kernelspec": {
   "display_name": "Python 3 (ipykernel)",
   "language": "python",
   "name": "python3"
  },
  "language_info": {
   "codemirror_mode": {
    "name": "ipython",
    "version": 3
   },
   "file_extension": ".py",
   "mimetype": "text/x-python",
   "name": "python",
   "nbconvert_exporter": "python",
   "pygments_lexer": "ipython3",
   "version": "3.8.12"
  }
 },
 "nbformat": 4,
 "nbformat_minor": 5
}
