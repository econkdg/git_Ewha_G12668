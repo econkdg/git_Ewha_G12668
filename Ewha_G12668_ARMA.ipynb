{
 "cells": [
  {
   "cell_type": "code",
   "execution_count": 2,
   "id": "798dbefe",
   "metadata": {},
   "outputs": [],
   "source": [
    "import pandas as pd\n",
    "import numpy as np\n",
    "import statsmodels as sm\n",
    "import statsmodels.formula.api as smf\n",
    "from statsmodels.tsa.arima.model import ARIMA\n",
    "from matplotlib import pyplot as plt"
   ]
  },
  {
   "cell_type": "code",
   "execution_count": 3,
   "id": "91338351",
   "metadata": {},
   "outputs": [],
   "source": [
    "df=pd.read_csv(\"c://j-works22/lectures/G_metricsII/2022/data/df.csv\")"
   ]
  },
  {
   "cell_type": "code",
   "execution_count": 4,
   "id": "025ace71",
   "metadata": {},
   "outputs": [],
   "source": [
    "y=df['won_dollar_return']\n",
    "# y=df['won_dollar']\n",
    "n=len(y)"
   ]
  },
  {
   "cell_type": "code",
   "execution_count": 6,
   "id": "9c8fa89c",
   "metadata": {},
   "outputs": [
    {
     "data": {
      "text/html": [
       "<table class=\"simpletable\">\n",
       "<caption>SARIMAX Results</caption>\n",
       "<tr>\n",
       "  <th>Dep. Variable:</th>   <td>won_dollar_return</td> <th>  No. Observations:  </th>    <td>252</td>   \n",
       "</tr>\n",
       "<tr>\n",
       "  <th>Model:</th>            <td>ARIMA(1, 0, 1)</td>   <th>  Log Likelihood     </th>  <td>539.045</td> \n",
       "</tr>\n",
       "<tr>\n",
       "  <th>Date:</th>            <td>Mon, 05 Sep 2022</td>  <th>  AIC                </th> <td>-1070.091</td>\n",
       "</tr>\n",
       "<tr>\n",
       "  <th>Time:</th>                <td>14:31:13</td>      <th>  BIC                </th> <td>-1055.973</td>\n",
       "</tr>\n",
       "<tr>\n",
       "  <th>Sample:</th>                  <td>0</td>         <th>  HQIC               </th> <td>-1064.410</td>\n",
       "</tr>\n",
       "<tr>\n",
       "  <th></th>                      <td> - 252</td>       <th>                     </th>     <td> </td>    \n",
       "</tr>\n",
       "<tr>\n",
       "  <th>Covariance Type:</th>        <td>opg</td>        <th>                     </th>     <td> </td>    \n",
       "</tr>\n",
       "</table>\n",
       "<table class=\"simpletable\">\n",
       "<tr>\n",
       "     <td></td>       <th>coef</th>     <th>std err</th>      <th>z</th>      <th>P>|z|</th>  <th>[0.025</th>    <th>0.975]</th>  \n",
       "</tr>\n",
       "<tr>\n",
       "  <th>const</th>  <td>    0.0086</td> <td>    0.029</td> <td>    0.296</td> <td> 0.768</td> <td>   -0.048</td> <td>    0.065</td>\n",
       "</tr>\n",
       "<tr>\n",
       "  <th>ar.L1</th>  <td>    0.9064</td> <td>    0.021</td> <td>   42.378</td> <td> 0.000</td> <td>    0.865</td> <td>    0.948</td>\n",
       "</tr>\n",
       "<tr>\n",
       "  <th>ma.L1</th>  <td>    0.5327</td> <td>    0.049</td> <td>   10.811</td> <td> 0.000</td> <td>    0.436</td> <td>    0.629</td>\n",
       "</tr>\n",
       "<tr>\n",
       "  <th>sigma2</th> <td>    0.0008</td> <td> 5.48e-05</td> <td>   14.643</td> <td> 0.000</td> <td>    0.001</td> <td>    0.001</td>\n",
       "</tr>\n",
       "</table>\n",
       "<table class=\"simpletable\">\n",
       "<tr>\n",
       "  <th>Ljung-Box (L1) (Q):</th>     <td>0.96</td> <th>  Jarque-Bera (JB):  </th> <td>199.32</td>\n",
       "</tr>\n",
       "<tr>\n",
       "  <th>Prob(Q):</th>                <td>0.33</td> <th>  Prob(JB):          </th>  <td>0.00</td> \n",
       "</tr>\n",
       "<tr>\n",
       "  <th>Heteroskedasticity (H):</th> <td>0.86</td> <th>  Skew:              </th>  <td>0.16</td> \n",
       "</tr>\n",
       "<tr>\n",
       "  <th>Prob(H) (two-sided):</th>    <td>0.50</td> <th>  Kurtosis:          </th>  <td>7.35</td> \n",
       "</tr>\n",
       "</table><br/><br/>Warnings:<br/>[1] Covariance matrix calculated using the outer product of gradients (complex-step)."
      ],
      "text/plain": [
       "<class 'statsmodels.iolib.summary.Summary'>\n",
       "\"\"\"\n",
       "                               SARIMAX Results                                \n",
       "==============================================================================\n",
       "Dep. Variable:      won_dollar_return   No. Observations:                  252\n",
       "Model:                 ARIMA(1, 0, 1)   Log Likelihood                 539.045\n",
       "Date:                Mon, 05 Sep 2022   AIC                          -1070.091\n",
       "Time:                        14:31:13   BIC                          -1055.973\n",
       "Sample:                             0   HQIC                         -1064.410\n",
       "                                - 252                                         \n",
       "Covariance Type:                  opg                                         \n",
       "==============================================================================\n",
       "                 coef    std err          z      P>|z|      [0.025      0.975]\n",
       "------------------------------------------------------------------------------\n",
       "const          0.0086      0.029      0.296      0.768      -0.048       0.065\n",
       "ar.L1          0.9064      0.021     42.378      0.000       0.865       0.948\n",
       "ma.L1          0.5327      0.049     10.811      0.000       0.436       0.629\n",
       "sigma2         0.0008   5.48e-05     14.643      0.000       0.001       0.001\n",
       "===================================================================================\n",
       "Ljung-Box (L1) (Q):                   0.96   Jarque-Bera (JB):               199.32\n",
       "Prob(Q):                              0.33   Prob(JB):                         0.00\n",
       "Heteroskedasticity (H):               0.86   Skew:                             0.16\n",
       "Prob(H) (two-sided):                  0.50   Kurtosis:                         7.35\n",
       "===================================================================================\n",
       "\n",
       "Warnings:\n",
       "[1] Covariance matrix calculated using the outer product of gradients (complex-step).\n",
       "\"\"\""
      ]
     },
     "execution_count": 6,
     "metadata": {},
     "output_type": "execute_result"
    }
   ],
   "source": [
    "arima=ARIMA(y, order=(1,0,1)).fit()\n",
    "arima.summary()"
   ]
  }
 ],
 "metadata": {
  "kernelspec": {
   "display_name": "Python 3 (ipykernel)",
   "language": "python",
   "name": "python3"
  },
  "language_info": {
   "codemirror_mode": {
    "name": "ipython",
    "version": 3
   },
   "file_extension": ".py",
   "mimetype": "text/x-python",
   "name": "python",
   "nbconvert_exporter": "python",
   "pygments_lexer": "ipython3",
   "version": "3.8.12"
  }
 },
 "nbformat": 4,
 "nbformat_minor": 5
}
