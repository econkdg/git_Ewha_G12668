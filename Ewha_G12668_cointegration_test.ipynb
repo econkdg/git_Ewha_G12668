{
  "cells": [
    {
      "cell_type": "code",
      "execution_count": null,
      "id": "798dbefe",
      "metadata": {
        "id": "798dbefe"
      },
      "outputs": [],
      "source": [
        "import pandas as pd\n",
        "import numpy as np\n",
        "from matplotlib import pyplot as plt\n",
        "import statsmodels as sm\n",
        "import statsmodels.formula.api as smf\n",
        "from statsmodels.tsa.vector_ar.vecm import coint_johansen"
      ]
    },
    {
      "cell_type": "code",
      "execution_count": null,
      "id": "751eafe8",
      "metadata": {
        "id": "751eafe8",
        "outputId": "e797c30e-0e26-44a7-d10a-67111cec1657"
      },
      "outputs": [
        {
          "data": {
            "text/plain": [
              "(124, 2)"
            ]
          },
          "execution_count": 3,
          "metadata": {},
          "output_type": "execute_result"
        }
      ],
      "source": [
        "df=pd.read_csv(\"c://j-works22/works/data/gdp_credit.csv\")\n",
        "x=df['gdp']\n",
        "y=df['credit']\n",
        "x=np.log(x)\n",
        "y=np.log(y)\n",
        "z=pd.concat([x,y], axis=1)"
      ]
    },
    {
      "cell_type": "code",
      "execution_count": null,
      "id": "93f2e9b6",
      "metadata": {
        "id": "93f2e9b6",
        "outputId": "729de4b3-3990-4aaa-a880-583c13d8206b"
      },
      "outputs": [
        {
          "name": "stdout",
          "output_type": "stream",
          "text": [
            "1st eigen_value: 0.133436\n",
            "max_test: 17.043042\n",
            "cv: rank=0 vs rank=1 [15.0006 17.1481 21.7465]\n"
          ]
        }
      ],
      "source": [
        "# coint_johansen(data, deterministic_order, number of lagged terms)\n",
        "# det_order=0 for constant, order=1 for linear trend\n",
        "# eigen_values\n",
        "\n",
        "eig=coint_johansen(z, 1, 4).eig\n",
        "max_test=coint_johansen(z, 1, 4).max_eig_stat\n",
        "maxcv=coint_johansen(z, 1, 4).cvm\n",
        "max_test\n",
        "# maxcv\n",
        "eig0=eig[0]\n",
        "max0=max_test[0]\n",
        "maxcv0=maxcv[0]\n",
        "\n",
        "print('1st eigen_value: %f' % eig0)\n",
        "print('max_test: %f' % max0)\n",
        "print('cv: rank=0 vs rank=1', maxcv0)"
      ]
    }
  ],
  "metadata": {
    "kernelspec": {
      "display_name": "Python 3 (ipykernel)",
      "language": "python",
      "name": "python3"
    },
    "language_info": {
      "codemirror_mode": {
        "name": "ipython",
        "version": 3
      },
      "file_extension": ".py",
      "mimetype": "text/x-python",
      "name": "python",
      "nbconvert_exporter": "python",
      "pygments_lexer": "ipython3",
      "version": "3.9.7"
    },
    "colab": {
      "provenance": [],
      "collapsed_sections": []
    }
  },
  "nbformat": 4,
  "nbformat_minor": 5
}