{
 "cells": [
  {
   "cell_type": "code",
   "execution_count": 1,
   "id": "798dbefe",
   "metadata": {},
   "outputs": [],
   "source": [
    "import pandas as pd\n",
    "import numpy as np\n",
    "import statsmodels as sm\n",
    "import statsmodels.formula.api as smf\n",
    "from matplotlib import pyplot as plt\n",
    "import math\n",
    "from sklearn import linear_model\n",
    "\n",
    "# from sklearn.preprocessing import StandardScaler"
   ]
  },
  {
   "cell_type": "code",
   "execution_count": 6,
   "id": "91338351",
   "metadata": {},
   "outputs": [
    {
     "data": {
      "text/plain": [
       "(258, 16)"
      ]
     },
     "execution_count": 6,
     "metadata": {},
     "output_type": "execute_result"
    }
   ],
   "source": [
    "df=pd.read_csv(\"c://j-works22/works/data/macro_normalized.csv\")\n",
    "y=df['bond10']\n",
    "x1=df['m2']\n",
    "x2=df['us_m2']\n",
    "x3=df['worker']\n",
    "x4=df['cpi']\n",
    "x5=df['us_cpi']\n",
    "x6=df['house']\n",
    "x7=df['tnote10']\n",
    "x8=df['bond3']\n",
    "x9=df['call']\n",
    "x10=df['ffr']\n",
    "x11=df['ip']\n",
    "x12=df['us_ip']\n",
    "x13=df['kospi']\n",
    "x14=df['dow']\n",
    "x15=df['nasdaq']\n",
    "x16=df['oil']\n",
    "x=pd.concat([x1,x2,x3,x4,x5,x6,x7,x8,x9,x10,x11,x12,x13,x14,x15,x16],axis=1)\n",
    "x.shape"
   ]
  },
  {
   "cell_type": "code",
   "execution_count": 16,
   "id": "ebbc0658",
   "metadata": {},
   "outputs": [
    {
     "data": {
      "text/plain": [
       "(216, 13)"
      ]
     },
     "execution_count": 16,
     "metadata": {},
     "output_type": "execute_result"
    }
   ],
   "source": [
    "# standardize the regressors\n",
    "# scale=StandardScaler(with_mean=True, with_std=True)\n",
    "# sx=scale.fit_transform(x)\n"
   ]
  },
  {
   "cell_type": "code",
   "execution_count": 11,
   "id": "87c4cd99",
   "metadata": {},
   "outputs": [
    {
     "name": "stdout",
     "output_type": "stream",
     "text": [
      "bhat= [0.         0.         0.         0.         0.         0.\n",
      " 0.28104397 0.70265901 0.         0.         0.         0.\n",
      " 0.         0.         0.         0.        ]\n",
      "tuning parameter alpha= 0.0342\n"
     ]
    }
   ],
   "source": [
    "# lasso with bic method for the tuning parameter\n",
    "\n",
    "model=linear_model.LassoLarsIC(criterion='bic', fit_intercept=False)\n",
    "model.fit(x,y)\n",
    "bhat=model.coef_\n",
    "alpha=model.alpha_\n",
    "alpha=np.round(alpha,4)\n",
    "print(\"bhat=\", bhat)\n",
    "print(\"tuning parameter alpha=\", alpha)"
   ]
  }
 ],
 "metadata": {
  "kernelspec": {
   "display_name": "Python 3 (ipykernel)",
   "language": "python",
   "name": "python3"
  },
  "language_info": {
   "codemirror_mode": {
    "name": "ipython",
    "version": 3
   },
   "file_extension": ".py",
   "mimetype": "text/x-python",
   "name": "python",
   "nbconvert_exporter": "python",
   "pygments_lexer": "ipython3",
   "version": "3.9.7"
  }
 },
 "nbformat": 4,
 "nbformat_minor": 5
}
