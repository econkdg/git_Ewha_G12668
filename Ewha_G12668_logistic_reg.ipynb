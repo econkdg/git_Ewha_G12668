{
  "cells": [
    {
      "cell_type": "code",
      "execution_count": null,
      "id": "798dbefe",
      "metadata": {
        "id": "798dbefe"
      },
      "outputs": [],
      "source": [
        "import pandas as pd\n",
        "import numpy as np\n",
        "import statsmodels as sm\n",
        "import statsmodels.formula.api as smf\n",
        "from statsmodels.tsa.filters import hp_filter\n",
        "from statsmodels.tsa.stattools import ccf\n",
        "from matplotlib import pyplot as plt"
      ]
    },
    {
      "cell_type": "code",
      "execution_count": null,
      "id": "91338351",
      "metadata": {
        "id": "91338351",
        "outputId": "5c5c370e-401e-4510-cf9f-dc8f764c5983"
      },
      "outputs": [
        {
          "data": {
            "text/plain": [
              "count    2.620000e+02\n",
              "mean     5.789805e-12\n",
              "std      2.297709e-02\n",
              "min     -5.631358e-02\n",
              "25%     -1.296072e-02\n",
              "50%     -1.438221e-03\n",
              "75%      1.237409e-02\n",
              "max      5.193323e-02\n",
              "Name: credit_m_cycle, dtype: float64"
            ]
          },
          "execution_count": 57,
          "metadata": {},
          "output_type": "execute_result"
        }
      ],
      "source": [
        "df=pd.read_csv(\"c://j-works22/works/data/recession_credit.csv\")\n",
        "y=df['recession']\n",
        "# interploated credit\n",
        "x=df['credit_m']\n",
        "x=np.log(x)\n",
        "cycle, trend= sm.tsa.filters.hp_filter.hpfilter(x, 129600)\n",
        "# cycle.describe()"
      ]
    },
    {
      "cell_type": "code",
      "execution_count": null,
      "id": "8f390c1b",
      "metadata": {
        "id": "8f390c1b"
      },
      "outputs": [],
      "source": [
        "df['yy']=y[1:n]\n",
        "# df['cycle_lag0']=cycle[:n-1]\n",
        "# lagged cycle\n",
        "df['cycle_lag1']=cycle[1:n]"
      ]
    },
    {
      "cell_type": "code",
      "execution_count": null,
      "id": "f03ad28d",
      "metadata": {
        "id": "f03ad28d",
        "outputId": "49a70897-26ad-4e04-bed4-3fd92cdd1c8d"
      },
      "outputs": [
        {
          "name": "stdout",
          "output_type": "stream",
          "text": [
            "Optimization terminated successfully.\n",
            "         Current function value: 0.655946\n",
            "         Iterations 5\n"
          ]
        },
        {
          "data": {
            "text/html": [
              "<table class=\"simpletable\">\n",
              "<caption>Logit Regression Results</caption>\n",
              "<tr>\n",
              "  <th>Dep. Variable:</th>          <td>yy</td>        <th>  No. Observations:  </th>  <td>   261</td> \n",
              "</tr>\n",
              "<tr>\n",
              "  <th>Model:</th>                 <td>Logit</td>      <th>  Df Residuals:      </th>  <td>   259</td> \n",
              "</tr>\n",
              "<tr>\n",
              "  <th>Method:</th>                 <td>MLE</td>       <th>  Df Model:          </th>  <td>     1</td> \n",
              "</tr>\n",
              "<tr>\n",
              "  <th>Date:</th>            <td>Wed, 28 Sep 2022</td> <th>  Pseudo R-squ.:     </th>  <td>0.01448</td>\n",
              "</tr>\n",
              "<tr>\n",
              "  <th>Time:</th>                <td>14:03:29</td>     <th>  Log-Likelihood:    </th> <td> -171.20</td>\n",
              "</tr>\n",
              "<tr>\n",
              "  <th>converged:</th>             <td>True</td>       <th>  LL-Null:           </th> <td> -173.72</td>\n",
              "</tr>\n",
              "<tr>\n",
              "  <th>Covariance Type:</th>     <td>nonrobust</td>    <th>  LLR p-value:       </th>  <td>0.02492</td>\n",
              "</tr>\n",
              "</table>\n",
              "<table class=\"simpletable\">\n",
              "<tr>\n",
              "       <td></td>         <th>coef</th>     <th>std err</th>      <th>z</th>      <th>P>|z|</th>  <th>[0.025</th>    <th>0.975]</th>  \n",
              "</tr>\n",
              "<tr>\n",
              "  <th>Intercept</th>  <td>   -0.4849</td> <td>    0.129</td> <td>   -3.764</td> <td> 0.000</td> <td>   -0.737</td> <td>   -0.232</td>\n",
              "</tr>\n",
              "<tr>\n",
              "  <th>cycle_lag1</th> <td>   12.6798</td> <td>    5.747</td> <td>    2.206</td> <td> 0.027</td> <td>    1.415</td> <td>   23.944</td>\n",
              "</tr>\n",
              "</table>"
            ],
            "text/plain": [
              "<class 'statsmodels.iolib.summary.Summary'>\n",
              "\"\"\"\n",
              "                           Logit Regression Results                           \n",
              "==============================================================================\n",
              "Dep. Variable:                     yy   No. Observations:                  261\n",
              "Model:                          Logit   Df Residuals:                      259\n",
              "Method:                           MLE   Df Model:                            1\n",
              "Date:                Wed, 28 Sep 2022   Pseudo R-squ.:                 0.01448\n",
              "Time:                        14:03:29   Log-Likelihood:                -171.20\n",
              "converged:                       True   LL-Null:                       -173.72\n",
              "Covariance Type:            nonrobust   LLR p-value:                   0.02492\n",
              "==============================================================================\n",
              "                 coef    std err          z      P>|z|      [0.025      0.975]\n",
              "------------------------------------------------------------------------------\n",
              "Intercept     -0.4849      0.129     -3.764      0.000      -0.737      -0.232\n",
              "cycle_lag1    12.6798      5.747      2.206      0.027       1.415      23.944\n",
              "==============================================================================\n",
              "\"\"\""
            ]
          },
          "execution_count": 56,
          "metadata": {},
          "output_type": "execute_result"
        }
      ],
      "source": [
        "logit=smf.logit(\"yy~cycle_lag1\", data=df).fit()\n",
        "logit.summary()"
      ]
    }
  ],
  "metadata": {
    "kernelspec": {
      "display_name": "Python 3 (ipykernel)",
      "language": "python",
      "name": "python3"
    },
    "language_info": {
      "codemirror_mode": {
        "name": "ipython",
        "version": 3
      },
      "file_extension": ".py",
      "mimetype": "text/x-python",
      "name": "python",
      "nbconvert_exporter": "python",
      "pygments_lexer": "ipython3",
      "version": "3.9.7"
    },
    "colab": {
      "provenance": []
    }
  },
  "nbformat": 4,
  "nbformat_minor": 5
}