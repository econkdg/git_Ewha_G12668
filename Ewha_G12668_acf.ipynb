{
 "cells": [
  {
   "cell_type": "code",
   "execution_count": 21,
   "id": "798dbefe",
   "metadata": {},
   "outputs": [],
   "source": [
    "import pandas as pd\n",
    "import numpy as np\n",
    "import statsmodels as sm\n",
    "import statsmodels.formula.api as smf\n",
    "from statsmodels.tsa.stattools import acf\n",
    "from matplotlib import pyplot as plt"
   ]
  },
  {
   "cell_type": "code",
   "execution_count": 22,
   "id": "91338351",
   "metadata": {},
   "outputs": [],
   "source": [
    "df=pd.read_csv(\"c://j-works22/lectures/G_metricsII/2022/data/df.csv\")"
   ]
  },
  {
   "cell_type": "code",
   "execution_count": 34,
   "id": "93be681c",
   "metadata": {},
   "outputs": [
    {
     "data": {
      "text/plain": [
       "count    252.000000\n",
       "mean       0.000558\n",
       "std        0.100506\n",
       "min       -0.246261\n",
       "25%       -0.057870\n",
       "50%       -0.018425\n",
       "75%        0.045787\n",
       "max        0.422489\n",
       "Name: won_dollar_return, dtype: float64"
      ]
     },
     "execution_count": 34,
     "metadata": {},
     "output_type": "execute_result"
    }
   ],
   "source": [
    "df['won_dollar_return'].describe()"
   ]
  },
  {
   "cell_type": "code",
   "execution_count": 35,
   "id": "025ace71",
   "metadata": {},
   "outputs": [],
   "source": [
    "y=df['won_dollar_return']"
   ]
  },
  {
   "cell_type": "code",
   "execution_count": 47,
   "id": "31d12f80",
   "metadata": {},
   "outputs": [
    {
     "data": {
      "text/plain": [
       "(array([ 1.        ,  0.94534173,  0.84430547,  0.74605475,  0.65639179,\n",
       "         0.55545321,  0.43409544,  0.31244295,  0.21321027,  0.12665937,\n",
       "         0.03055854, -0.0759263 , -0.16458852, -0.1937714 , -0.19011709,\n",
       "        -0.18391199, -0.18426679, -0.18217882, -0.1734497 , -0.16672183,\n",
       "        -0.17655589, -0.19837316, -0.22411567, -0.23734756, -0.23392409]),\n",
       " array([[ 1.        ,  1.        ],\n",
       "        [ 0.8218756 ,  1.06880785],\n",
       "        [ 0.63817464,  1.05043629],\n",
       "        [ 0.49263183,  0.99947767],\n",
       "        [ 0.37144865,  0.94133494],\n",
       "        [ 0.24832415,  0.86258226],\n",
       "        [ 0.11201688,  0.75617399],\n",
       "        [-0.01843419,  0.64332008],\n",
       "        [-0.12213419,  0.54855474],\n",
       "        [-0.2107452 ,  0.46406394],\n",
       "        [-0.30757005,  0.36868714],\n",
       "        [-0.41409699,  0.26224439],\n",
       "        [-0.50301898,  0.17384193],\n",
       "        [-0.53341985,  0.14587704],\n",
       "        [-0.53144655,  0.15121237],\n",
       "        [-0.52685188,  0.1590279 ],\n",
       "        [-0.52870688,  0.16017329],\n",
       "        [-0.52811836,  0.16376071],\n",
       "        [-0.52084864,  0.17394925],\n",
       "        [-0.5154384 ,  0.18199473],\n",
       "        [-0.52648543,  0.17337366],\n",
       "        [-0.54965801,  0.1529117 ],\n",
       "        [-0.57710406,  0.12887272],\n",
       "        [-0.59249843,  0.1178033 ],\n",
       "        [-0.59148476,  0.12363658]]),\n",
       " array([227.89678107, 410.40963258, 553.48876907, 664.68981247,\n",
       "        744.64235141, 793.67322015, 819.17729785, 831.10236066,\n",
       "        835.32809928, 835.57509202, 837.10618544, 844.33092354,\n",
       "        854.38670282, 864.1074494 , 873.24239597, 882.4514795 ,\n",
       "        891.49134933, 899.72069835, 907.35665202, 915.95689416,\n",
       "        926.8609503 , 940.83913803, 956.58506862, 971.94712371]),\n",
       " array([1.71406994e-051, 7.59767347e-090, 1.21819805e-119, 1.53934143e-142,\n",
       "        1.09007606e-158, 3.58453039e-168, 1.34851535e-172, 4.06702474e-174,\n",
       "        5.26871140e-174, 4.62330829e-173, 2.03425484e-172, 5.11992612e-173,\n",
       "        3.06983018e-174, 2.10573929e-175, 1.87443469e-176, 1.56754683e-177,\n",
       "        1.39131425e-178, 1.79890779e-179, 3.04752448e-180, 3.15449741e-181,\n",
       "        1.03799248e-182, 7.47788826e-185, 2.24423379e-187, 8.05135943e-190]))"
      ]
     },
     "execution_count": 47,
     "metadata": {},
     "output_type": "execute_result"
    }
   ],
   "source": [
    "autocorr=acf(y, adjusted=True, nlags=24, alpha=0.05)\n",
    "autocorr"
   ]
  }
 ],
 "metadata": {
  "kernelspec": {
   "display_name": "Python 3 (ipykernel)",
   "language": "python",
   "name": "python3"
  },
  "language_info": {
   "codemirror_mode": {
    "name": "ipython",
    "version": 3
   },
   "file_extension": ".py",
   "mimetype": "text/x-python",
   "name": "python",
   "nbconvert_exporter": "python",
   "pygments_lexer": "ipython3",
   "version": "3.8.12"
  }
 },
 "nbformat": 4,
 "nbformat_minor": 5
}
