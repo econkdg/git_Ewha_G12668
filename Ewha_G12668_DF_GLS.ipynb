{
 "cells": [
  {
   "cell_type": "code",
   "execution_count": 1,
   "id": "798dbefe",
   "metadata": {},
   "outputs": [],
   "source": [
    "import pandas as pd\n",
    "import numpy as np\n",
    "import statsmodels as sm\n",
    "import statsmodels.formula.api as smf\n",
    "from statsmodels.tsa.stattools import acf\n",
    "import arch\n",
    "from arch.unitroot import DFGLS"
   ]
  },
  {
   "cell_type": "code",
   "execution_count": 2,
   "id": "91338351",
   "metadata": {},
   "outputs": [],
   "source": [
    "df=pd.read_csv(\"c://j-works22/lectures/G_metricsII/2022/data/df.csv\")\n",
    "y=df['won_dollar']\n",
    "y=np.log(y)"
   ]
  },
  {
   "cell_type": "code",
   "execution_count": 4,
   "id": "fa6ca9e3",
   "metadata": {},
   "outputs": [
    {
     "name": "stdout",
     "output_type": "stream",
     "text": [
      "      Dickey-Fuller GLS Results      \n",
      "=====================================\n",
      "Test Statistic                 -1.516\n",
      "P-value                         0.126\n",
      "Lags                                2\n",
      "-------------------------------------\n",
      "\n",
      "Trend: Constant\n",
      "Critical Values: -2.65 (1%), -2.03 (5%), -1.71 (10%)\n",
      "Null Hypothesis: The process contains a unit root.\n",
      "Alternative Hypothesis: The process is weakly stationary.\n"
     ]
    }
   ],
   "source": [
    "# trend='c' for a constant only, 'ct' for a constant and a linear time trend\n",
    "# method = lag selection method in ADF regression\n",
    "\n",
    "df_gls=DFGLS(y, trend='c', method='bic')\n",
    "print(df_gls.summary().as_text())"
   ]
  }
 ],
 "metadata": {
  "kernelspec": {
   "display_name": "Python 3 (ipykernel)",
   "language": "python",
   "name": "python3"
  },
  "language_info": {
   "codemirror_mode": {
    "name": "ipython",
    "version": 3
   },
   "file_extension": ".py",
   "mimetype": "text/x-python",
   "name": "python",
   "nbconvert_exporter": "python",
   "pygments_lexer": "ipython3",
   "version": "3.8.12"
  }
 },
 "nbformat": 4,
 "nbformat_minor": 5
}
