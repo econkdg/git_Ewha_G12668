{
 "cells": [
  {
   "cell_type": "code",
   "execution_count": 6,
   "id": "798dbefe",
   "metadata": {},
   "outputs": [],
   "source": [
    "import pandas as pd\n",
    "import numpy as np\n",
    "import statsmodels as sm\n",
    "import statsmodels.formula.api as smf\n",
    "from statsmodels.tsa.stattools import acf\n",
    "\n",
    "# pip install arch\n",
    "import arch\n",
    "from arch.unitroot import VarianceRatio"
   ]
  },
  {
   "cell_type": "code",
   "execution_count": 7,
   "id": "91338351",
   "metadata": {},
   "outputs": [],
   "source": [
    "df=pd.read_csv(\"c://j-works22/lectures/G_metricsII/2022/data/df.csv\")\n",
    "y=df['won_dollar_return']"
   ]
  },
  {
   "cell_type": "code",
   "execution_count": 9,
   "id": "fa6ca9e3",
   "metadata": {},
   "outputs": [
    {
     "name": "stdout",
     "output_type": "stream",
     "text": [
      "     Variance-Ratio Test Results     \n",
      "=====================================\n",
      "Test Statistic                  3.157\n",
      "P-value                         0.002\n",
      "Lags                                6\n",
      "-------------------------------------\n",
      "\n",
      "Computed with overlapping blocks (de-biased)\n"
     ]
    }
   ],
   "source": [
    "vr=VarianceRatio(y, 6)\n",
    "print(vr.summary().as_text())"
   ]
  }
 ],
 "metadata": {
  "kernelspec": {
   "display_name": "Python 3 (ipykernel)",
   "language": "python",
   "name": "python3"
  },
  "language_info": {
   "codemirror_mode": {
    "name": "ipython",
    "version": 3
   },
   "file_extension": ".py",
   "mimetype": "text/x-python",
   "name": "python",
   "nbconvert_exporter": "python",
   "pygments_lexer": "ipython3",
   "version": "3.8.12"
  }
 },
 "nbformat": 4,
 "nbformat_minor": 5
}
