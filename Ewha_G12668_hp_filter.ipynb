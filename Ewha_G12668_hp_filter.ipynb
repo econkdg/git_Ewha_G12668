{
 "cells": [
  {
   "cell_type": "code",
   "execution_count": 8,
   "id": "798dbefe",
   "metadata": {},
   "outputs": [],
   "source": [
    "import pandas as pd\n",
    "import numpy as np\n",
    "import statsmodels as sm\n",
    "import statsmodels.formula.api as smf\n",
    "from matplotlib import pyplot as plt"
   ]
  },
  {
   "cell_type": "code",
   "execution_count": 9,
   "id": "91338351",
   "metadata": {},
   "outputs": [],
   "source": [
    "df=pd.read_csv(\"c://j-works22/works/data/credit.csv\")\n",
    "y=df['credit_gdp_ratio']"
   ]
  },
  {
   "cell_type": "code",
   "execution_count": 14,
   "id": "fae97df2",
   "metadata": {},
   "outputs": [],
   "source": [
    "cycle, trend= sm.tsa.filters.hp_filter.hpfilter(y, 1600)"
   ]
  },
  {
   "cell_type": "code",
   "execution_count": 20,
   "id": "e5847d57",
   "metadata": {},
   "outputs": [
    {
     "data": {
      "text/html": [
       "<div>\n",
       "<style scoped>\n",
       "    .dataframe tbody tr th:only-of-type {\n",
       "        vertical-align: middle;\n",
       "    }\n",
       "\n",
       "    .dataframe tbody tr th {\n",
       "        vertical-align: top;\n",
       "    }\n",
       "\n",
       "    .dataframe thead th {\n",
       "        text-align: right;\n",
       "    }\n",
       "</style>\n",
       "<table border=\"1\" class=\"dataframe\">\n",
       "  <thead>\n",
       "    <tr style=\"text-align: right;\">\n",
       "      <th></th>\n",
       "      <th>Unnamed: 0</th>\n",
       "      <th>credit_gdp_ratio</th>\n",
       "      <th>cycle</th>\n",
       "      <th>trend</th>\n",
       "    </tr>\n",
       "  </thead>\n",
       "  <tbody>\n",
       "    <tr>\n",
       "      <th>0</th>\n",
       "      <td>31.03.1970</td>\n",
       "      <td>51.4</td>\n",
       "      <td>-3.712275</td>\n",
       "      <td>55.112275</td>\n",
       "    </tr>\n",
       "    <tr>\n",
       "      <th>1</th>\n",
       "      <td>30.06.1970</td>\n",
       "      <td>52.1</td>\n",
       "      <td>-3.301860</td>\n",
       "      <td>55.401860</td>\n",
       "    </tr>\n",
       "    <tr>\n",
       "      <th>2</th>\n",
       "      <td>30.09.1970</td>\n",
       "      <td>53.7</td>\n",
       "      <td>-1.989125</td>\n",
       "      <td>55.689125</td>\n",
       "    </tr>\n",
       "    <tr>\n",
       "      <th>3</th>\n",
       "      <td>31.12.1970</td>\n",
       "      <td>55.1</td>\n",
       "      <td>-0.869685</td>\n",
       "      <td>55.969685</td>\n",
       "    </tr>\n",
       "    <tr>\n",
       "      <th>4</th>\n",
       "      <td>31.03.1971</td>\n",
       "      <td>56.0</td>\n",
       "      <td>-0.237915</td>\n",
       "      <td>56.237915</td>\n",
       "    </tr>\n",
       "    <tr>\n",
       "      <th>...</th>\n",
       "      <td>...</td>\n",
       "      <td>...</td>\n",
       "      <td>...</td>\n",
       "      <td>...</td>\n",
       "    </tr>\n",
       "    <tr>\n",
       "      <th>203</th>\n",
       "      <td>31.12.2020</td>\n",
       "      <td>213.7</td>\n",
       "      <td>4.922909</td>\n",
       "      <td>208.777091</td>\n",
       "    </tr>\n",
       "    <tr>\n",
       "      <th>204</th>\n",
       "      <td>31.03.2021</td>\n",
       "      <td>216.2</td>\n",
       "      <td>5.029921</td>\n",
       "      <td>211.170079</td>\n",
       "    </tr>\n",
       "    <tr>\n",
       "      <th>205</th>\n",
       "      <td>30.06.2021</td>\n",
       "      <td>218.1</td>\n",
       "      <td>4.523535</td>\n",
       "      <td>213.576465</td>\n",
       "    </tr>\n",
       "    <tr>\n",
       "      <th>206</th>\n",
       "      <td>30.09.2021</td>\n",
       "      <td>220.4</td>\n",
       "      <td>4.411022</td>\n",
       "      <td>215.988978</td>\n",
       "    </tr>\n",
       "    <tr>\n",
       "      <th>207</th>\n",
       "      <td>31.12.2021</td>\n",
       "      <td>221.1</td>\n",
       "      <td>2.696823</td>\n",
       "      <td>218.403177</td>\n",
       "    </tr>\n",
       "  </tbody>\n",
       "</table>\n",
       "<p>208 rows × 4 columns</p>\n",
       "</div>"
      ],
      "text/plain": [
       "     Unnamed: 0  credit_gdp_ratio     cycle       trend\n",
       "0    31.03.1970              51.4 -3.712275   55.112275\n",
       "1    30.06.1970              52.1 -3.301860   55.401860\n",
       "2    30.09.1970              53.7 -1.989125   55.689125\n",
       "3    31.12.1970              55.1 -0.869685   55.969685\n",
       "4    31.03.1971              56.0 -0.237915   56.237915\n",
       "..          ...               ...       ...         ...\n",
       "203  31.12.2020             213.7  4.922909  208.777091\n",
       "204  31.03.2021             216.2  5.029921  211.170079\n",
       "205  30.06.2021             218.1  4.523535  213.576465\n",
       "206  30.09.2021             220.4  4.411022  215.988978\n",
       "207  31.12.2021             221.1  2.696823  218.403177\n",
       "\n",
       "[208 rows x 4 columns]"
      ]
     },
     "execution_count": 20,
     "metadata": {},
     "output_type": "execute_result"
    }
   ],
   "source": [
    "df[\"cycle\"]=cycle\n",
    "df[\"trend\"]=trend\n",
    "df"
   ]
  },
  {
   "cell_type": "code",
   "execution_count": 26,
   "id": "946cfd6c",
   "metadata": {},
   "outputs": [
    {
     "data": {
      "text/plain": [
       "<AxesSubplot:>"
      ]
     },
     "execution_count": 26,
     "metadata": {},
     "output_type": "execute_result"
    },
    {
     "data": {
      "image/png": "[encoded data removed]",
      "text/plain": [
       "<Figure size 432x288 with 1 Axes>"
      ]
     },
     "metadata": {
      "needs_background": "light"
     },
     "output_type": "display_data"
    }
   ],
   "source": [
    "df[[\"credit_gdp_ratio\", \"trend\", \"cycle\"]].plot()"
   ]
  }
 ],
 "metadata": {
  "kernelspec": {
   "display_name": "Python 3 (ipykernel)",
   "language": "python",
   "name": "python3"
  },
  "language_info": {
   "codemirror_mode": {
    "name": "ipython",
    "version": 3
   },
   "file_extension": ".py",
   "mimetype": "text/x-python",
   "name": "python",
   "nbconvert_exporter": "python",
   "pygments_lexer": "ipython3",
   "version": "3.8.12"
  }
 },
 "nbformat": 4,
 "nbformat_minor": 5
}
