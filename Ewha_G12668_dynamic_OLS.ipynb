{
 "cells": [
  {
   "cell_type": "code",
   "execution_count": 1,
   "id": "798dbefe",
   "metadata": {},
   "outputs": [],
   "source": [
    "import pandas as pd\n",
    "import numpy as np\n",
    "import statsmodels as sm\n",
    "import statsmodels.formula.api as smf\n",
    "from statsmodels.tsa.stattools import acf\n",
    "import arch\n",
    "from arch.unitroot.cointegration import DynamicOLS"
   ]
  },
  {
   "cell_type": "code",
   "execution_count": 4,
   "id": "91338351",
   "metadata": {},
   "outputs": [
    {
     "data": {
      "text/plain": [
       "261"
      ]
     },
     "execution_count": 4,
     "metadata": {},
     "output_type": "execute_result"
    }
   ],
   "source": [
    "df=pd.read_csv(\"c://j-works22/works/data/rate_10.csv\")\n",
    "y=df['kr_10']\n",
    "x=df['tnote_10']\n",
    "n=len(y)"
   ]
  },
  {
   "cell_type": "code",
   "execution_count": 13,
   "id": "fa6ca9e3",
   "metadata": {},
   "outputs": [
    {
     "data": {
      "text/html": [
       "<table class=\"simpletable\">\n",
       "<caption>Dynamic OLS Cointegrating Vector Summary</caption>\n",
       "<tr>\n",
       "  <th>Trend:</th>      <td>Constant</td>  <th>  No. Observations:  </th>   <td>244</td> \n",
       "</tr>\n",
       "<tr>\n",
       "  <th>Leads:</th>          <td>0</td>     <th>  R²:                </th> <td>0.7935</td>\n",
       "</tr>\n",
       "<tr>\n",
       "  <th>Lags:</th>          <td>16</td>     <th>  Adjusted. R²:      </th> <td>0.7770</td>\n",
       "</tr>\n",
       "<tr>\n",
       "  <th>Cov Type:</th>  <td>unadjusted</td> <th>  Residual Variance: </th> <td>0.4400</td>\n",
       "</tr>\n",
       "<tr>\n",
       "  <th>Kernel:</th>     <td>Bartlett</td>  <th>  Long-run Variance: </th> <td>4.9780</td>\n",
       "</tr>\n",
       "<tr>\n",
       "  <th>Bandwidth:</th>   <td>13.493</td>   <th>                     </th>    <td></td>   \n",
       "</tr>\n",
       "</table>\n",
       "<table class=\"simpletable\">\n",
       "<caption>Cointegrating Vector</caption>\n",
       "<tr>\n",
       "      <td></td>     <th>Parameter</th> <th>Std. Err.</th> <th>T-stat</th> <th>P-value</th> <th>Lower CI</th> <th>Upper CI</th>\n",
       "</tr>\n",
       "<tr>\n",
       "  <th>tnote_10</th>  <td>1.2021</td>    <td>0.1324</td>   <td>9.0788</td> <td>0.0000</td>   <td>0.9426</td>   <td>1.4616</td> \n",
       "</tr>\n",
       "<tr>\n",
       "  <th>const</th>     <td>0.1057</td>    <td>0.4210</td>   <td>0.2512</td> <td>0.8017</td>   <td>-0.7193</td>  <td>0.9308</td> \n",
       "</tr>\n",
       "</table>"
      ],
      "text/plain": [
       "<class 'statsmodels.iolib.summary.Summary'>\n",
       "\"\"\"\n",
       "                   Dynamic OLS Cointegrating Vector Summary                   \n",
       "==============================================================================\n",
       "Trend:                       Constant   No. Observations:                  244\n",
       "Leads:                              0   R²:                             0.7935\n",
       "Lags:                              16   Adjusted. R²:                   0.7770\n",
       "Cov Type:                  unadjusted   Residual Variance:              0.4400\n",
       "Kernel:                      Bartlett   Long-run Variance:              4.9780\n",
       "Bandwidth:                     13.493                                         \n",
       "                             Cointegrating Vector                             \n",
       "==============================================================================\n",
       "            Parameter  Std. Err.     T-stat    P-value    Lower CI    Upper CI\n",
       "------------------------------------------------------------------------------\n",
       "tnote_10       1.2021     0.1324     9.0788     0.0000      0.9426      1.4616\n",
       "const          0.1057     0.4210     0.2512     0.8017     -0.7193      0.9308\n",
       "==============================================================================\n",
       "\"\"\""
      ]
     },
     "execution_count": 13,
     "metadata": {},
     "output_type": "execute_result"
    }
   ],
   "source": [
    "# trend='c' for a constant only, 'ct' for a constant and a linear time trend\n",
    "# method = leads and lags selection method; aic, bic, hqic\n",
    "\n",
    "regress=DynamicOLS(y, x, trend='c', lags=None, leads=None, method='hqic').fit()\n",
    "regress.summary()"
   ]
  }
 ],
 "metadata": {
  "kernelspec": {
   "display_name": "Python 3 (ipykernel)",
   "language": "python",
   "name": "python3"
  },
  "language_info": {
   "codemirror_mode": {
    "name": "ipython",
    "version": 3
   },
   "file_extension": ".py",
   "mimetype": "text/x-python",
   "name": "python",
   "nbconvert_exporter": "python",
   "pygments_lexer": "ipython3",
   "version": "3.8.12"
  }
 },
 "nbformat": 4,
 "nbformat_minor": 5
}
