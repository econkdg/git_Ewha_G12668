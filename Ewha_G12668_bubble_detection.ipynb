{
  "cells": [
    {
      "cell_type": "code",
      "execution_count": null,
      "id": "798dbefe",
      "metadata": {
        "id": "798dbefe"
      },
      "outputs": [],
      "source": [
        "import pandas as pd\n",
        "import numpy as np\n",
        "import statsmodels as sm\n",
        "import statsmodels.formula.api as smf\n",
        "from statsmodels.tsa.stattools import adfuller\n",
        "from matplotlib import pyplot as plt"
      ]
    },
    {
      "cell_type": "code",
      "execution_count": null,
      "id": "91338351",
      "metadata": {
        "id": "91338351",
        "outputId": "ffa0892f-2071-45a4-adfa-eaa8de28d3a3"
      },
      "outputs": [
        {
          "data": {
            "text/plain": [
              "248"
            ]
          },
          "execution_count": 2,
          "metadata": {},
          "output_type": "execute_result"
        }
      ],
      "source": [
        "df=pd.read_csv(\"c://j-works22/works/data/kakao_games.csv\")\n",
        "y=df['price']\n",
        "y=np.log(y)\n",
        "n=len(y)"
      ]
    },
    {
      "cell_type": "code",
      "execution_count": null,
      "id": "9f536123",
      "metadata": {
        "id": "9f536123"
      },
      "outputs": [],
      "source": [
        "initial=30\n",
        "m=n-initial\n",
        "test=np.zeros(m)\n",
        "for i in range(m):\n",
        "    adf=adfuller(y[: initial+i], regression='c', autolag='bic', store=False, regresults=False)\n",
        "    test[i]=adf[0]\n",
        "\n",
        "   # print('test', test)"
      ]
    },
    {
      "cell_type": "code",
      "execution_count": null,
      "id": "8fc5c401",
      "metadata": {
        "scrolled": false,
        "id": "8fc5c401",
        "outputId": "cc2148e0-4eea-4b50-9e78-9496f5c5d095"
      },
      "outputs": [
        {
          "data": {
            "image/png": "[encoded data removed]",
            "text/plain": [
              "<Figure size 432x288 with 1 Axes>"
            ]
          },
          "metadata": {
            "needs_background": "light"
          },
          "output_type": "display_data"
        }
      ],
      "source": [
        "nk=len(test)\n",
        "cv5= -0.08*np.ones(nk)\n",
        "cv10=-0.44*np.ones(nk)\n",
        "x_axis=range(1, nk+1, 1)\n",
        "plt.title(\"Right Tailed ADF Test: Kakao Games\")      \n",
        "plt.scatter(x_axis, test, color='k', label=\"adf test\")\n",
        "plt.scatter(x_axis, cv5, color='r', label=\"5% cv\")\n",
        "plt.scatter(x_axis, cv10, color='b', label=\"10% cv\")\n",
        "plt.legend()\n",
        "plt.show()"
      ]
    },
    {
      "cell_type": "code",
      "execution_count": null,
      "id": "87d1efc5",
      "metadata": {
        "id": "87d1efc5",
        "outputId": "551bb2ec-c04c-4f84-8daf-b6d907047ce3"
      },
      "outputs": [
        {
          "data": {
            "text/plain": [
              "0.39454375801625524"
            ]
          },
          "execution_count": 6,
          "metadata": {},
          "output_type": "execute_result"
        }
      ],
      "source": [
        "# sup_ADF cv_5% = 1.468\n",
        "# sup_ADF cv_10% = 1.184\n",
        "# sup_adf=max(test)\n",
        "# sup_adf"
      ]
    }
  ],
  "metadata": {
    "kernelspec": {
      "display_name": "Python 3 (ipykernel)",
      "language": "python",
      "name": "python3"
    },
    "language_info": {
      "codemirror_mode": {
        "name": "ipython",
        "version": 3
      },
      "file_extension": ".py",
      "mimetype": "text/x-python",
      "name": "python",
      "nbconvert_exporter": "python",
      "pygments_lexer": "ipython3",
      "version": "3.9.7"
    },
    "colab": {
      "provenance": []
    }
  },
  "nbformat": 4,
  "nbformat_minor": 5
}