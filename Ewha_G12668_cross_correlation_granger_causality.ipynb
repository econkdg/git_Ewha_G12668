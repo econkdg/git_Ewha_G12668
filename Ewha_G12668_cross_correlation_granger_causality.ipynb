{
  "cells": [
    {
      "cell_type": "code",
      "execution_count": null,
      "id": "798dbefe",
      "metadata": {
        "id": "798dbefe"
      },
      "outputs": [],
      "source": [
        "import pandas as pd\n",
        "import numpy as np\n",
        "import statsmodels as sm\n",
        "import statsmodels.formula.api as smf\n",
        "from statsmodels.tsa.filters import hp_filter\n",
        "from statsmodels.tsa.stattools import ccf\n",
        "from statsmodels.tsa.api import VAR\n",
        "from matplotlib import pyplot as plt"
      ]
    },
    {
      "cell_type": "code",
      "execution_count": null,
      "id": "91338351",
      "metadata": {
        "id": "91338351"
      },
      "outputs": [],
      "source": [
        "df=pd.read_csv(\"c://j-works22/works/data/gdp_credit.csv\")\n",
        "x=df['gdp']\n",
        "y=df['credit']\n",
        "x=np.log(x)\n",
        "y=np.log(y)"
      ]
    },
    {
      "cell_type": "code",
      "execution_count": null,
      "id": "fae97df2",
      "metadata": {
        "id": "fae97df2"
      },
      "outputs": [],
      "source": [
        "b_cycle, b_trend= sm.tsa.filters.hp_filter.hpfilter(x, 1600)\n",
        "f_cycle, f_trend= sm.tsa.filters.hp_filter.hpfilter(y, 1600)"
      ]
    },
    {
      "cell_type": "code",
      "execution_count": null,
      "id": "54bf7e1a",
      "metadata": {
        "id": "54bf7e1a",
        "outputId": "f6ee7f78-e088-40fc-eca4-b562e0d68521"
      },
      "outputs": [
        {
          "data": {
            "text/plain": [
              "count    1.240000e+02\n",
              "mean    -7.069614e-13\n",
              "std      1.975370e-02\n",
              "min     -7.935365e-02\n",
              "25%     -5.678800e-03\n",
              "50%      1.148901e-03\n",
              "75%      9.800111e-03\n",
              "max      4.825870e-02\n",
              "Name: gdp_cycle, dtype: float64"
            ]
          },
          "execution_count": 7,
          "metadata": {},
          "output_type": "execute_result"
        }
      ],
      "source": [
        "# b_cycle.describe()"
      ]
    },
    {
      "cell_type": "code",
      "execution_count": null,
      "id": "7fbc7cd1",
      "metadata": {
        "id": "7fbc7cd1",
        "outputId": "b3d9575d-4f68-45a4-f21f-69c89f8fd733"
      },
      "outputs": [
        {
          "data": {
            "image/png": "[encoded data removed]",
            "text/plain": [
              "<Figure size 432x288 with 1 Axes>"
            ]
          },
          "metadata": {
            "needs_background": "light"
          },
          "output_type": "display_data"
        }
      ],
      "source": [
        "corr=sm.tsa.stattools.ccf(f_cycle, b_cycle)\n",
        "# corr=sm.tsa.stattools.ccf(b_cycle, f_cycle)\n",
        "\n",
        "for i in range(13):\n",
        "   plt.scatter(i, corr[i])\n",
        "   \n",
        "plt.title('cross correlation between business cycle and lagged financial cycles')\n",
        "plt.show()"
      ]
    },
    {
      "cell_type": "code",
      "execution_count": null,
      "id": "87d1efc5",
      "metadata": {
        "id": "87d1efc5",
        "outputId": "09cff69c-fae7-4063-e2b5-eb6f2952a207"
      },
      "outputs": [
        {
          "data": {
            "text/plain": [
              "  Summary of Regression Results   \n",
              "==================================\n",
              "Model:                         VAR\n",
              "Method:                        OLS\n",
              "Date:           Tue, 27, Sep, 2022\n",
              "Time:                     11:33:15\n",
              "--------------------------------------------------------------------\n",
              "No. of Equations:         2.00000    BIC:                   -17.8395\n",
              "Nobs:                     122.000    HQIC:                  -17.9760\n",
              "Log likelihood:           766.009    FPE:                1.42109e-08\n",
              "AIC:                     -18.0694    Det(Omega_mle):     1.31139e-08\n",
              "--------------------------------------------------------------------\n",
              "Results for equation y1\n",
              "========================================================================\n",
              "           coefficient       std. error           t-stat            prob\n",
              "------------------------------------------------------------------------\n",
              "const         0.000042         0.000947            0.044           0.965\n",
              "L1.y1         1.073370         0.086452           12.416           0.000\n",
              "L1.y2        -0.110946         0.085403           -1.299           0.194\n",
              "L2.y1        -0.356947         0.084868           -4.206           0.000\n",
              "L2.y2        -0.003515         0.087635           -0.040           0.968\n",
              "========================================================================\n",
              "\n",
              "Results for equation y2\n",
              "========================================================================\n",
              "           coefficient       std. error           t-stat            prob\n",
              "------------------------------------------------------------------------\n",
              "const         0.000359         0.000994            0.361           0.718\n",
              "L1.y1         0.150650         0.090777            1.660           0.097\n",
              "L1.y2         0.712382         0.089676            7.944           0.000\n",
              "L2.y1         0.151831         0.089114            1.704           0.088\n",
              "L2.y2         0.210334         0.092019            2.286           0.022\n",
              "========================================================================\n",
              "\n",
              "Correlation matrix of residuals\n",
              "            y1        y2\n",
              "y1    1.000000  0.054830\n",
              "y2    0.054830  1.000000\n",
              "\n"
            ]
          },
          "execution_count": 19,
          "metadata": {},
          "output_type": "execute_result"
        }
      ],
      "source": [
        "z=np.column_stack((b_cycle, f_cycle))\n",
        "result=VAR(z).fit(maxlags=10, ic='bic')\n",
        "result.summary()"
      ]
    },
    {
      "cell_type": "code",
      "execution_count": null,
      "id": "207665c3",
      "metadata": {
        "id": "207665c3",
        "outputId": "fe13e85b-2e83-4b7c-c0c8-a869ea7078a2"
      },
      "outputs": [
        {
          "data": {
            "text/html": [
              "<table class=\"simpletable\">\n",
              "<caption>Granger causality F-test. H_0: y1 does not Granger-cause y2. Conclusion: reject H_0 at 5% significance level.</caption>\n",
              "<tr>\n",
              "  <th>Test statistic</th> <th>Critical value</th> <th>p-value</th>    <th>df</th>   \n",
              "</tr>\n",
              "<tr>\n",
              "       <td>13.48</td>          <td>3.034</td>      <td>0.000</td>  <td>(2, 234)</td>\n",
              "</tr>\n",
              "</table>"
            ],
            "text/plain": [
              "<class 'statsmodels.iolib.table.SimpleTable'>"
            ]
          },
          "execution_count": 17,
          "metadata": {},
          "output_type": "execute_result"
        }
      ],
      "source": [
        "granger=result.test_causality('y2', ['y1'], kind='f')\n",
        "granger.summary()"
      ]
    }
  ],
  "metadata": {
    "kernelspec": {
      "display_name": "Python 3 (ipykernel)",
      "language": "python",
      "name": "python3"
    },
    "language_info": {
      "codemirror_mode": {
        "name": "ipython",
        "version": 3
      },
      "file_extension": ".py",
      "mimetype": "text/x-python",
      "name": "python",
      "nbconvert_exporter": "python",
      "pygments_lexer": "ipython3",
      "version": "3.9.7"
    },
    "colab": {
      "provenance": []
    }
  },
  "nbformat": 4,
  "nbformat_minor": 5
}